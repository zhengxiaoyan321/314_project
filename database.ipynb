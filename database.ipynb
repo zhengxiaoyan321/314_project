{
 "cells": [
  {
   "cell_type": "markdown",
   "metadata": {},
   "source": [
    "# Database\n",
    "Database normalization is the process of structuring a relational database in accordance with a series of so-called normal forms in order to reduce data redundancy and improve data integrity."
   ]
  },
  {
   "cell_type": "code",
   "execution_count": 1,
   "metadata": {},
   "outputs": [],
   "source": [
    "import pandas as pd\n",
    "pd.set_option('display.max_columns', 500)"
   ]
  },
  {
   "cell_type": "markdown",
   "metadata": {},
   "source": [
    "## Read full dataframe from file\n",
    "The data have been properly cleaned in previous steps. Each column of the dataframe is a variable and each row is an observation. All entries in this dataset are now assumed to be correct. Any columns or entries that happened to contain more than a single piece of information (in the 'location' column for example) have either been split or removed. Thus, by this time this dataframe satisfies the first normal form. However, dependency between columns still exist, and we would like to remove this dependency to minimize redundancy."
   ]
  },
  {
   "cell_type": "code",
   "execution_count": 2,
   "metadata": {},
   "outputs": [],
   "source": [
    "combined = pd.read_csv('train.csv')"
   ]
  },
  {
   "cell_type": "markdown",
   "metadata": {},
   "source": [
    "## Split and Remove Redundancy\n",
    "There are several entities involved in a police stop: the police, the subject, the location, and the outcome of the stop. We separate these entities from the original dataframe into separated tables and create primary/foreign keys to establish relationships between tables such that the minimal amount of data is preserved to reconstruct the original dataframe, and any duplicated information is removed."
   ]
  },
  {
   "cell_type": "markdown",
   "metadata": {},
   "source": [
    "The original dataset does not contain any identification for the subjects of the stops, thus there's no built-in primary key for this table. However, for the sake of reconstructing original records, subjects can be identified as a combination of their age, race, sex, and ethnicity. This table uses an auto-generated index as its primary key. subject_id column is added to the full dataset by matching the records, which will be used as foreign key for the stop table."
   ]
  },
  {
   "cell_type": "code",
   "execution_count": 3,
   "metadata": {},
   "outputs": [],
   "source": [
    "subject=combined[[\"subject_age\",\"subject_race\",\"subject_sex\",\"raw_Ethnicity\"]].drop_duplicates()\n",
    "subject.reset_index(inplace=True,drop=True)\n",
    "subject.index=subject.index.rename(\"subject_id\")\n",
    "subject_id=combined.subject_age.astype('string')+combined[\"subject_race\"]+combined[\"subject_sex\"]+combined[\"raw_Ethnicity\"]\n",
    "strs=subject.subject_age.astype('string')+subject[\"subject_race\"]+subject[\"subject_sex\"]+subject[\"raw_Ethnicity\"]\n",
    "map = dict(zip(strs, subject.index.values))\n",
    "id=[map[s] for s in subject_id]\n",
    "combined[\"subject_id\"]=id"
   ]
  },
  {
   "cell_type": "markdown",
   "metadata": {},
   "source": [
    "Each location should ideally belong to one and only one county, but due to the existence of missing values, for some records we only know the county name. To solve this, a similar approach as in previous case is adapted. An auto-generated index serves as the primary key of the table, and a foreign key column is added to the full table."
   ]
  },
  {
   "cell_type": "code",
   "execution_count": 4,
   "metadata": {},
   "outputs": [],
   "source": [
    "location=combined[[\"location\", \"county_name\"]].drop_duplicates().reset_index(drop=True)\n",
    "location.index=location.index.rename(\"location_id\")\n",
    "strs=location[\"location\"]+location[\"county_name\"]\n",
    "map = dict(zip(strs, location.index.values))\n",
    "location_id=combined[\"location\"]+combined[\"county_name\"]\n",
    "id=[map[s] for s in location_id]\n",
    "combined[\"location_id\"]=id"
   ]
  },
  {
   "cell_type": "markdown",
   "metadata": {},
   "source": [
    "The police involved in the stops has their id in the records, which becomes the primary key of this table, and each police officer works in one and only one police department."
   ]
  },
  {
   "cell_type": "code",
   "execution_count": 5,
   "metadata": {},
   "outputs": [],
   "source": [
    "officers=combined[[\"officer_id_hash\",\"department_name\"]].drop_duplicates()\n",
    "officers.set_index(\"officer_id_hash\",inplace=True)"
   ]
  },
  {
   "cell_type": "markdown",
   "metadata": {},
   "source": [
    "The stops table stores the stop records, including the time, reason, and outcome of the stops. It also contains subject_id, location_id, and officer_id as foreign keys which relate it to the other three tables."
   ]
  },
  {
   "cell_type": "code",
   "execution_count": 6,
   "metadata": {},
   "outputs": [],
   "source": [
    "stops=combined[[\"raw_row_number\",\"date_time\", \"reason_for_stop\",\"raw_action_description\",\"officer_id_hash\",\"location_id\",\"subject_id\"]]\n",
    "stops.set_index(\"raw_row_number\",inplace=True)"
   ]
  },
  {
   "cell_type": "markdown",
   "metadata": {},
   "source": [
    "Now the entity relationship diagram of the dataset is depicted in the following graph. The columns in each table now depends only on the primary key, and any redundant rows have been removed.\n",
    "\n",
    "![er diagram](data/er-diagram.png)"
   ]
  },
  {
   "cell_type": "markdown",
   "metadata": {},
   "source": [
    "## Create Database\n",
    "We first create a database engine and then connect to the database engine and create the relational table."
   ]
  },
  {
   "cell_type": "code",
   "execution_count": 7,
   "metadata": {},
   "outputs": [
    {
     "data": {
      "text/plain": [
       "283"
      ]
     },
     "execution_count": 7,
     "metadata": {},
     "output_type": "execute_result"
    }
   ],
   "source": [
    "from sqlalchemy import create_engine\n",
    "from pandas import read_sql_query\n",
    "engine = create_engine('sqlite:///:memory:')\n",
    "\n",
    "subject.to_sql('subject', engine)\n",
    "stops.to_sql('stops', engine)\n",
    "officers.to_sql('officiers', engine)\n",
    "location.to_sql('location', engine)"
   ]
  },
  {
   "cell_type": "markdown",
   "metadata": {},
   "source": [
    "Then we can execute and capture the results from various SQL queries."
   ]
  },
  {
   "cell_type": "markdown",
   "metadata": {},
   "source": [
    "In this example, we selected all subjects who are older than 50."
   ]
  },
  {
   "cell_type": "code",
   "execution_count": 8,
   "metadata": {},
   "outputs": [
    {
     "data": {
      "text/html": [
       "<div>\n",
       "<style scoped>\n",
       "    .dataframe tbody tr th:only-of-type {\n",
       "        vertical-align: middle;\n",
       "    }\n",
       "\n",
       "    .dataframe tbody tr th {\n",
       "        vertical-align: top;\n",
       "    }\n",
       "\n",
       "    .dataframe thead th {\n",
       "        text-align: right;\n",
       "    }\n",
       "</style>\n",
       "<table border=\"1\" class=\"dataframe\">\n",
       "  <thead>\n",
       "    <tr style=\"text-align: right;\">\n",
       "      <th></th>\n",
       "      <th>subject_id</th>\n",
       "      <th>subject_age</th>\n",
       "      <th>subject_race</th>\n",
       "      <th>subject_sex</th>\n",
       "      <th>raw_Ethnicity</th>\n",
       "    </tr>\n",
       "  </thead>\n",
       "  <tbody>\n",
       "    <tr>\n",
       "      <th>0</th>\n",
       "      <td>2</td>\n",
       "      <td>64.0</td>\n",
       "      <td>white</td>\n",
       "      <td>female</td>\n",
       "      <td>N</td>\n",
       "    </tr>\n",
       "    <tr>\n",
       "      <th>1</th>\n",
       "      <td>5</td>\n",
       "      <td>52.0</td>\n",
       "      <td>white</td>\n",
       "      <td>male</td>\n",
       "      <td>N</td>\n",
       "    </tr>\n",
       "    <tr>\n",
       "      <th>2</th>\n",
       "      <td>12</td>\n",
       "      <td>56.0</td>\n",
       "      <td>white</td>\n",
       "      <td>female</td>\n",
       "      <td>N</td>\n",
       "    </tr>\n",
       "    <tr>\n",
       "      <th>3</th>\n",
       "      <td>38</td>\n",
       "      <td>59.0</td>\n",
       "      <td>white</td>\n",
       "      <td>male</td>\n",
       "      <td>N</td>\n",
       "    </tr>\n",
       "    <tr>\n",
       "      <th>4</th>\n",
       "      <td>39</td>\n",
       "      <td>58.0</td>\n",
       "      <td>black</td>\n",
       "      <td>male</td>\n",
       "      <td>N</td>\n",
       "    </tr>\n",
       "    <tr>\n",
       "      <th>...</th>\n",
       "      <td>...</td>\n",
       "      <td>...</td>\n",
       "      <td>...</td>\n",
       "      <td>...</td>\n",
       "      <td>...</td>\n",
       "    </tr>\n",
       "    <tr>\n",
       "      <th>515</th>\n",
       "      <td>997</td>\n",
       "      <td>76.0</td>\n",
       "      <td>unknown</td>\n",
       "      <td>female</td>\n",
       "      <td>N</td>\n",
       "    </tr>\n",
       "    <tr>\n",
       "      <th>516</th>\n",
       "      <td>998</td>\n",
       "      <td>99.0</td>\n",
       "      <td>white</td>\n",
       "      <td>female</td>\n",
       "      <td>N</td>\n",
       "    </tr>\n",
       "    <tr>\n",
       "      <th>517</th>\n",
       "      <td>999</td>\n",
       "      <td>97.0</td>\n",
       "      <td>hispanic</td>\n",
       "      <td>male</td>\n",
       "      <td>H</td>\n",
       "    </tr>\n",
       "    <tr>\n",
       "      <th>518</th>\n",
       "      <td>1000</td>\n",
       "      <td>83.0</td>\n",
       "      <td>other</td>\n",
       "      <td>male</td>\n",
       "      <td>N</td>\n",
       "    </tr>\n",
       "    <tr>\n",
       "      <th>519</th>\n",
       "      <td>1001</td>\n",
       "      <td>84.0</td>\n",
       "      <td>other</td>\n",
       "      <td>female</td>\n",
       "      <td>N</td>\n",
       "    </tr>\n",
       "  </tbody>\n",
       "</table>\n",
       "<p>520 rows × 5 columns</p>\n",
       "</div>"
      ],
      "text/plain": [
       "     subject_id  subject_age subject_race subject_sex raw_Ethnicity\n",
       "0             2         64.0        white      female             N\n",
       "1             5         52.0        white        male             N\n",
       "2            12         56.0        white      female             N\n",
       "3            38         59.0        white        male             N\n",
       "4            39         58.0        black        male             N\n",
       "..          ...          ...          ...         ...           ...\n",
       "515         997         76.0      unknown      female             N\n",
       "516         998         99.0        white      female             N\n",
       "517         999         97.0     hispanic        male             H\n",
       "518        1000         83.0        other        male             N\n",
       "519        1001         84.0        other      female             N\n",
       "\n",
       "[520 rows x 5 columns]"
      ]
     },
     "execution_count": 8,
     "metadata": {},
     "output_type": "execute_result"
    }
   ],
   "source": [
    "read_sql_query('SELECT * FROM subject WHERE subject_age>50.0', engine)"
   ]
  },
  {
   "cell_type": "markdown",
   "metadata": {},
   "source": [
    "In this example, we selected all stop records that involved subjects who are not white."
   ]
  },
  {
   "cell_type": "code",
   "execution_count": 9,
   "metadata": {},
   "outputs": [
    {
     "data": {
      "text/html": [
       "<div>\n",
       "<style scoped>\n",
       "    .dataframe tbody tr th:only-of-type {\n",
       "        vertical-align: middle;\n",
       "    }\n",
       "\n",
       "    .dataframe tbody tr th {\n",
       "        vertical-align: top;\n",
       "    }\n",
       "\n",
       "    .dataframe thead th {\n",
       "        text-align: right;\n",
       "    }\n",
       "</style>\n",
       "<table border=\"1\" class=\"dataframe\">\n",
       "  <thead>\n",
       "    <tr style=\"text-align: right;\">\n",
       "      <th></th>\n",
       "      <th>date_time</th>\n",
       "      <th>reason_for_stop</th>\n",
       "      <th>raw_action_description</th>\n",
       "    </tr>\n",
       "  </thead>\n",
       "  <tbody>\n",
       "    <tr>\n",
       "      <th>0</th>\n",
       "      <td>2014-03-12 00:21:00</td>\n",
       "      <td>Vehicle Equipment Violation</td>\n",
       "      <td>Citation Issued</td>\n",
       "    </tr>\n",
       "    <tr>\n",
       "      <th>1</th>\n",
       "      <td>2014-12-25 00:08:00</td>\n",
       "      <td>Driving While Impaired</td>\n",
       "      <td>On-View Arrest</td>\n",
       "    </tr>\n",
       "    <tr>\n",
       "      <th>2</th>\n",
       "      <td>2008-07-09 14:30:00</td>\n",
       "      <td>Speed Limit Violation</td>\n",
       "      <td>Citation Issued</td>\n",
       "    </tr>\n",
       "    <tr>\n",
       "      <th>3</th>\n",
       "      <td>2008-07-22 12:06:29</td>\n",
       "      <td>Investigation</td>\n",
       "      <td>Citation Issued</td>\n",
       "    </tr>\n",
       "    <tr>\n",
       "      <th>4</th>\n",
       "      <td>2015-07-08 08:14:00</td>\n",
       "      <td>Vehicle Regulatory Violation</td>\n",
       "      <td>Citation Issued</td>\n",
       "    </tr>\n",
       "    <tr>\n",
       "      <th>...</th>\n",
       "      <td>...</td>\n",
       "      <td>...</td>\n",
       "      <td>...</td>\n",
       "    </tr>\n",
       "    <tr>\n",
       "      <th>2120528</th>\n",
       "      <td>2014-11-24 10:28:00</td>\n",
       "      <td>Vehicle Equipment Violation</td>\n",
       "      <td>Citation Issued</td>\n",
       "    </tr>\n",
       "    <tr>\n",
       "      <th>2120529</th>\n",
       "      <td>2015-01-22 15:22:00</td>\n",
       "      <td>Vehicle Regulatory Violation</td>\n",
       "      <td>Verbal Warning</td>\n",
       "    </tr>\n",
       "    <tr>\n",
       "      <th>2120530</th>\n",
       "      <td>2005-08-04 13:23:00</td>\n",
       "      <td>Investigation</td>\n",
       "      <td>No Action Taken</td>\n",
       "    </tr>\n",
       "    <tr>\n",
       "      <th>2120531</th>\n",
       "      <td>2000-05-21 02:32:00</td>\n",
       "      <td>Vehicle Regulatory Violation</td>\n",
       "      <td>Citation Issued</td>\n",
       "    </tr>\n",
       "    <tr>\n",
       "      <th>2120532</th>\n",
       "      <td>2012-04-27 14:29:00</td>\n",
       "      <td>Vehicle Regulatory Violation</td>\n",
       "      <td>Citation Issued</td>\n",
       "    </tr>\n",
       "  </tbody>\n",
       "</table>\n",
       "<p>2120533 rows × 3 columns</p>\n",
       "</div>"
      ],
      "text/plain": [
       "                   date_time               reason_for_stop  \\\n",
       "0        2014-03-12 00:21:00   Vehicle Equipment Violation   \n",
       "1        2014-12-25 00:08:00        Driving While Impaired   \n",
       "2        2008-07-09 14:30:00         Speed Limit Violation   \n",
       "3        2008-07-22 12:06:29                 Investigation   \n",
       "4        2015-07-08 08:14:00  Vehicle Regulatory Violation   \n",
       "...                      ...                           ...   \n",
       "2120528  2014-11-24 10:28:00   Vehicle Equipment Violation   \n",
       "2120529  2015-01-22 15:22:00  Vehicle Regulatory Violation   \n",
       "2120530  2005-08-04 13:23:00                 Investigation   \n",
       "2120531  2000-05-21 02:32:00  Vehicle Regulatory Violation   \n",
       "2120532  2012-04-27 14:29:00  Vehicle Regulatory Violation   \n",
       "\n",
       "        raw_action_description  \n",
       "0              Citation Issued  \n",
       "1               On-View Arrest  \n",
       "2              Citation Issued  \n",
       "3              Citation Issued  \n",
       "4              Citation Issued  \n",
       "...                        ...  \n",
       "2120528        Citation Issued  \n",
       "2120529         Verbal Warning  \n",
       "2120530        No Action Taken  \n",
       "2120531        Citation Issued  \n",
       "2120532        Citation Issued  \n",
       "\n",
       "[2120533 rows x 3 columns]"
      ]
     },
     "execution_count": 9,
     "metadata": {},
     "output_type": "execute_result"
    }
   ],
   "source": [
    "read_sql_query('SELECT date_time, reason_for_stop, raw_action_description FROM stops JOIN subject ON stops.subject_id=subject.subject_id WHERE subject_race!=\"white\"', engine)"
   ]
  }
 ],
 "metadata": {
  "kernelspec": {
   "display_name": "Python 3.10.8 64-bit (microsoft store)",
   "language": "python",
   "name": "python3"
  },
  "language_info": {
   "codemirror_mode": {
    "name": "ipython",
    "version": 3
   },
   "file_extension": ".py",
   "mimetype": "text/x-python",
   "name": "python",
   "nbconvert_exporter": "python",
   "pygments_lexer": "ipython3",
   "version": "3.10.8"
  },
  "orig_nbformat": 4,
  "vscode": {
   "interpreter": {
    "hash": "c5038320e2c403f05b08e16129d64a7c27a35a79ea6e4807f3ca30ee12c4b1b2"
   }
  }
 },
 "nbformat": 4,
 "nbformat_minor": 2
}
