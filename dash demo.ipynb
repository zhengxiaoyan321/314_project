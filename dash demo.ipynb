{
 "cells": [
  {
   "cell_type": "markdown",
   "id": "0594c516",
   "metadata": {},
   "source": [
    "# Model Examination"
   ]
  },
  {
   "cell_type": "code",
   "execution_count": 1,
   "id": "7d8a15a6",
   "metadata": {},
   "outputs": [
    {
     "name": "stderr",
     "output_type": "stream",
     "text": [
      "/var/folders/c3/pnj_1rm104j3p8q7d6y_kc0h0000gn/T/ipykernel_2259/4057734045.py:8: UserWarning: \n",
      "The dash_core_components package is deprecated. Please replace\n",
      "`import dash_core_components as dcc` with `from dash import dcc`\n",
      "  import dash_core_components as dcc\n",
      "/var/folders/c3/pnj_1rm104j3p8q7d6y_kc0h0000gn/T/ipykernel_2259/4057734045.py:9: UserWarning: \n",
      "The dash_html_components package is deprecated. Please replace\n",
      "`import dash_html_components as html` with `from dash import html`\n",
      "  import dash_html_components as html\n"
     ]
    }
   ],
   "source": [
    "import pandas as pd\n",
    "import numpy as np\n",
    "import matplotlib.pyplot as plt\n",
    "from sklearn.model_selection import train_test_split\n",
    "from pathlib import Path\n",
    "import datetime as dt\n",
    "import dash         #(version 1.0.0)\n",
    "import dash_core_components as dcc\n",
    "import dash_html_components as html\n",
    "from dash.dependencies import Input, Output\n",
    "import plotly       #(version 4.4.1)\n",
    "import plotly.express as px"
   ]
  },
  {
   "cell_type": "markdown",
   "id": "3d2188c5",
   "metadata": {},
   "source": [
    "## Input Model Metrics"
   ]
  },
  {
   "cell_type": "code",
   "execution_count": 2,
   "id": "68688bf5",
   "metadata": {},
   "outputs": [
    {
     "data": {
      "text/html": [
       "<div>\n",
       "<style scoped>\n",
       "    .dataframe tbody tr th:only-of-type {\n",
       "        vertical-align: middle;\n",
       "    }\n",
       "\n",
       "    .dataframe tbody tr th {\n",
       "        vertical-align: top;\n",
       "    }\n",
       "\n",
       "    .dataframe thead th {\n",
       "        text-align: right;\n",
       "    }\n",
       "</style>\n",
       "<table border=\"1\" class=\"dataframe\">\n",
       "  <thead>\n",
       "    <tr style=\"text-align: right;\">\n",
       "      <th></th>\n",
       "      <th>Model</th>\n",
       "      <th>R2</th>\n",
       "      <th>Accruacy</th>\n",
       "    </tr>\n",
       "  </thead>\n",
       "  <tbody>\n",
       "    <tr>\n",
       "      <th>0</th>\n",
       "      <td>Logistics Model</td>\n",
       "      <td>0.46</td>\n",
       "      <td>0.68</td>\n",
       "    </tr>\n",
       "    <tr>\n",
       "      <th>1</th>\n",
       "      <td>Random Forest Model</td>\n",
       "      <td>0.28</td>\n",
       "      <td>0.66</td>\n",
       "    </tr>\n",
       "  </tbody>\n",
       "</table>\n",
       "</div>"
      ],
      "text/plain": [
       "                 Model    R2  Accruacy\n",
       "0      Logistics Model  0.46      0.68\n",
       "1  Random Forest Model  0.28      0.66"
      ]
     },
     "execution_count": 2,
     "metadata": {},
     "output_type": "execute_result"
    }
   ],
   "source": [
    "#create input dataframe by your own\n",
    "Models = [\"Logistics Model\",\"Random Forest Model\"]\n",
    "R2 = [0.46,0.28]\n",
    "Acc = [0.68,0.66]\n",
    "\n",
    "modeln = pd.DataFrame({\n",
    "    \"Model\": Models,\n",
    "    \"R2\": R2,\n",
    "    \"Accruacy\": Acc,\n",
    "})    \n",
    "modeln.head()"
   ]
  },
  {
   "cell_type": "code",
   "execution_count": 4,
   "id": "867f6ca8",
   "metadata": {},
   "outputs": [
    {
     "data": {
      "text/html": [
       "\n",
       "        <iframe\n",
       "            width=\"100%\"\n",
       "            height=\"650\"\n",
       "            src=\"http://127.0.0.1:8050/\"\n",
       "            frameborder=\"0\"\n",
       "            allowfullscreen\n",
       "            \n",
       "        ></iframe>\n",
       "        "
      ],
      "text/plain": [
       "<IPython.lib.display.IFrame at 0x7f926245b220>"
      ]
     },
     "metadata": {},
     "output_type": "display_data"
    }
   ],
   "source": [
    "#modified from source https://www.youtube.com/watch?v=FuJOsZgo4nU\n",
    "from jupyter_dash import JupyterDash\n",
    "#-------------------------------------------------------------------------------------\n",
    "\n",
    "app = JupyterDash(__name__)\n",
    "\n",
    "#-------------------------------------------------------------------------------------\n",
    "app.layout = html.Div([\n",
    "\n",
    "        html.Div([\n",
    "            html.Pre(children= \"Model Comparison\",\n",
    "            style={\"text-align\": \"center\", \"font-size\":\"100%\", \"color\":\"black\"})\n",
    "        ]),\n",
    "\n",
    "        html.Div([\n",
    "            html.Label(['X-axis:'],style={'font-weight': 'bold'}),\n",
    "            dcc.RadioItems(\n",
    "                id='xaxis_raditem',\n",
    "                options=[\n",
    "                         {'label': 'Models', 'value': 'Model'},\n",
    "#                          {'label': 'data', 'value': 'Data'}, # add more x-axis\n",
    "                    #      {'label': 'data', 'value': 'Data'}, # add more x-axis\n",
    "#                          {'label': 'data', 'value': 'Data'}, # add more x-axis\n",
    "#                          {'label': 'data', 'value': 'Data'}, # add more x-axis\n",
    "#                          {'label': 'data', 'value': 'Data'}, # add more x-axis\n",
    "#                          {'label': 'data', 'value': 'Data'}, # add more x-axis\n",
    "\n",
    "                ],\n",
    "                value='Model',\n",
    "                style={\"width\": \"50%\"}\n",
    "            ),\n",
    "        ]),\n",
    "\n",
    "        html.Div([\n",
    "            html.Br(),\n",
    "            html.Label(['Y-axis:'], style={'font-weight': 'bold'}),\n",
    "            dcc.RadioItems(\n",
    "                id='yaxis_raditem',\n",
    "                options=[\n",
    "                         {'label': 'R2', 'value': 'R2'},\n",
    "                         {'label': 'Accuracy', 'value': 'Accruacy'},\n",
    "                    #      {'label': 'data', 'value': 'Data'}, # add more y-axis\n",
    "#                          {'label': 'data', 'value': 'Data'}, # add more y-axis\n",
    "#                          {'label': 'data', 'value': 'Data'}, # add more y-axis\n",
    "#                          {'label': 'data', 'value': 'Data'}, # add more y-axis\n",
    "#                          {'label': 'data', 'value': 'Data'}, # add more y-axis\n",
    "#                          {'label': 'data', 'value': 'Data'}, # add more y-axis\n",
    "\n",
    "                ],\n",
    "                value='Accruacy',\n",
    "                style={\"width\": \"50%\"}\n",
    "            ),\n",
    "        ]),\n",
    "\n",
    "    html.Div([\n",
    "        dcc.Graph(id='the_graph')\n",
    "    ]),\n",
    "\n",
    "])\n",
    "\n",
    "#-------------------------------------------------------------------------------------\n",
    "@app.callback(\n",
    "    Output(component_id='the_graph', component_property='figure'),\n",
    "    [Input(component_id='xaxis_raditem', component_property='value'),\n",
    "     Input(component_id='yaxis_raditem', component_property='value')]\n",
    ")\n",
    "\n",
    "def update_graph(x_axis, y_axis):\n",
    "\n",
    "    dff = modeln\n",
    "    # print(dff[[x_axis,y_axis]][:1])\n",
    "\n",
    "    barchart=px.bar(\n",
    "            data_frame=dff,\n",
    "            x=x_axis,\n",
    "            y=y_axis,\n",
    "            title=y_axis+': by '+x_axis,\n",
    "            # facet_col='Borough',\n",
    "            # color='Borough',\n",
    "            # barmode='group',\n",
    "            )\n",
    "\n",
    "    barchart.update_layout(xaxis={'categoryorder':'total ascending'},\n",
    "                           title={'xanchor':'center', 'yanchor': 'top', 'y':0.9,'x':0.5,})\n",
    "\n",
    "    return (barchart)\n",
    "\n",
    "if __name__ == '__main__':\n",
    "    app.run_server(mode = \"inline\")"
   ]
  }
 ],
 "metadata": {
  "kernelspec": {
   "display_name": "Python 3 (ipykernel)",
   "language": "python",
   "name": "python3"
  },
  "language_info": {
   "codemirror_mode": {
    "name": "ipython",
    "version": 3
   },
   "file_extension": ".py",
   "mimetype": "text/x-python",
   "name": "python",
   "nbconvert_exporter": "python",
   "pygments_lexer": "ipython3",
   "version": "3.9.15"
  }
 },
 "nbformat": 4,
 "nbformat_minor": 5
}
